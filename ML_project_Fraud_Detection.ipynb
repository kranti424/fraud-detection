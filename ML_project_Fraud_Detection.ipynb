{
  "cells": [
    {
      "cell_type": "code",
      "execution_count": null,
      "metadata": {
        "id": "kcZ3E96KdJbL"
      },
      "outputs": [],
      "source": [
        "import numpy as np\n",
        "import pandas as pd\n",
        "import matplotlib.pyplot as plt"
      ]
    },
    {
      "cell_type": "code",
      "execution_count": null,
      "metadata": {
        "colab": {
          "base_uri": "https://localhost:8080/",
          "height": 206
        },
        "id": "QFwBSfWbdauA",
        "outputId": "f4691cb9-73fe-4661-e903-5d071c62f336"
      },
      "outputs": [
        {
          "output_type": "execute_result",
          "data": {
            "text/plain": [
              "   step      type    amount     nameOrig  oldbalanceOrg  newbalanceOrig  \\\n",
              "0     1   PAYMENT   9839.64  C1231006815       170136.0       160296.36   \n",
              "1     1   PAYMENT   1864.28  C1666544295        21249.0        19384.72   \n",
              "2     1  TRANSFER    181.00  C1305486145          181.0            0.00   \n",
              "3     1  CASH_OUT    181.00   C840083671          181.0            0.00   \n",
              "4     1   PAYMENT  11668.14  C2048537720        41554.0        29885.86   \n",
              "\n",
              "      nameDest  oldbalanceDest  newbalanceDest  isFraud  isFlaggedFraud  \n",
              "0  M1979787155             0.0             0.0        0               0  \n",
              "1  M2044282225             0.0             0.0        0               0  \n",
              "2   C553264065             0.0             0.0        1               0  \n",
              "3    C38997010         21182.0             0.0        1               0  \n",
              "4  M1230701703             0.0             0.0        0               0  "
            ],
            "text/html": [
              "\n",
              "  <div id=\"df-c6e944f0-74e5-4707-ae8c-5d1d8de48340\" class=\"colab-df-container\">\n",
              "    <div>\n",
              "<style scoped>\n",
              "    .dataframe tbody tr th:only-of-type {\n",
              "        vertical-align: middle;\n",
              "    }\n",
              "\n",
              "    .dataframe tbody tr th {\n",
              "        vertical-align: top;\n",
              "    }\n",
              "\n",
              "    .dataframe thead th {\n",
              "        text-align: right;\n",
              "    }\n",
              "</style>\n",
              "<table border=\"1\" class=\"dataframe\">\n",
              "  <thead>\n",
              "    <tr style=\"text-align: right;\">\n",
              "      <th></th>\n",
              "      <th>step</th>\n",
              "      <th>type</th>\n",
              "      <th>amount</th>\n",
              "      <th>nameOrig</th>\n",
              "      <th>oldbalanceOrg</th>\n",
              "      <th>newbalanceOrig</th>\n",
              "      <th>nameDest</th>\n",
              "      <th>oldbalanceDest</th>\n",
              "      <th>newbalanceDest</th>\n",
              "      <th>isFraud</th>\n",
              "      <th>isFlaggedFraud</th>\n",
              "    </tr>\n",
              "  </thead>\n",
              "  <tbody>\n",
              "    <tr>\n",
              "      <th>0</th>\n",
              "      <td>1</td>\n",
              "      <td>PAYMENT</td>\n",
              "      <td>9839.64</td>\n",
              "      <td>C1231006815</td>\n",
              "      <td>170136.0</td>\n",
              "      <td>160296.36</td>\n",
              "      <td>M1979787155</td>\n",
              "      <td>0.0</td>\n",
              "      <td>0.0</td>\n",
              "      <td>0</td>\n",
              "      <td>0</td>\n",
              "    </tr>\n",
              "    <tr>\n",
              "      <th>1</th>\n",
              "      <td>1</td>\n",
              "      <td>PAYMENT</td>\n",
              "      <td>1864.28</td>\n",
              "      <td>C1666544295</td>\n",
              "      <td>21249.0</td>\n",
              "      <td>19384.72</td>\n",
              "      <td>M2044282225</td>\n",
              "      <td>0.0</td>\n",
              "      <td>0.0</td>\n",
              "      <td>0</td>\n",
              "      <td>0</td>\n",
              "    </tr>\n",
              "    <tr>\n",
              "      <th>2</th>\n",
              "      <td>1</td>\n",
              "      <td>TRANSFER</td>\n",
              "      <td>181.00</td>\n",
              "      <td>C1305486145</td>\n",
              "      <td>181.0</td>\n",
              "      <td>0.00</td>\n",
              "      <td>C553264065</td>\n",
              "      <td>0.0</td>\n",
              "      <td>0.0</td>\n",
              "      <td>1</td>\n",
              "      <td>0</td>\n",
              "    </tr>\n",
              "    <tr>\n",
              "      <th>3</th>\n",
              "      <td>1</td>\n",
              "      <td>CASH_OUT</td>\n",
              "      <td>181.00</td>\n",
              "      <td>C840083671</td>\n",
              "      <td>181.0</td>\n",
              "      <td>0.00</td>\n",
              "      <td>C38997010</td>\n",
              "      <td>21182.0</td>\n",
              "      <td>0.0</td>\n",
              "      <td>1</td>\n",
              "      <td>0</td>\n",
              "    </tr>\n",
              "    <tr>\n",
              "      <th>4</th>\n",
              "      <td>1</td>\n",
              "      <td>PAYMENT</td>\n",
              "      <td>11668.14</td>\n",
              "      <td>C2048537720</td>\n",
              "      <td>41554.0</td>\n",
              "      <td>29885.86</td>\n",
              "      <td>M1230701703</td>\n",
              "      <td>0.0</td>\n",
              "      <td>0.0</td>\n",
              "      <td>0</td>\n",
              "      <td>0</td>\n",
              "    </tr>\n",
              "  </tbody>\n",
              "</table>\n",
              "</div>\n",
              "    <div class=\"colab-df-buttons\">\n",
              "\n",
              "  <div class=\"colab-df-container\">\n",
              "    <button class=\"colab-df-convert\" onclick=\"convertToInteractive('df-c6e944f0-74e5-4707-ae8c-5d1d8de48340')\"\n",
              "            title=\"Convert this dataframe to an interactive table.\"\n",
              "            style=\"display:none;\">\n",
              "\n",
              "  <svg xmlns=\"http://www.w3.org/2000/svg\" height=\"24px\" viewBox=\"0 -960 960 960\">\n",
              "    <path d=\"M120-120v-720h720v720H120Zm60-500h600v-160H180v160Zm220 220h160v-160H400v160Zm0 220h160v-160H400v160ZM180-400h160v-160H180v160Zm440 0h160v-160H620v160ZM180-180h160v-160H180v160Zm440 0h160v-160H620v160Z\"/>\n",
              "  </svg>\n",
              "    </button>\n",
              "\n",
              "  <style>\n",
              "    .colab-df-container {\n",
              "      display:flex;\n",
              "      gap: 12px;\n",
              "    }\n",
              "\n",
              "    .colab-df-convert {\n",
              "      background-color: #E8F0FE;\n",
              "      border: none;\n",
              "      border-radius: 50%;\n",
              "      cursor: pointer;\n",
              "      display: none;\n",
              "      fill: #1967D2;\n",
              "      height: 32px;\n",
              "      padding: 0 0 0 0;\n",
              "      width: 32px;\n",
              "    }\n",
              "\n",
              "    .colab-df-convert:hover {\n",
              "      background-color: #E2EBFA;\n",
              "      box-shadow: 0px 1px 2px rgba(60, 64, 67, 0.3), 0px 1px 3px 1px rgba(60, 64, 67, 0.15);\n",
              "      fill: #174EA6;\n",
              "    }\n",
              "\n",
              "    .colab-df-buttons div {\n",
              "      margin-bottom: 4px;\n",
              "    }\n",
              "\n",
              "    [theme=dark] .colab-df-convert {\n",
              "      background-color: #3B4455;\n",
              "      fill: #D2E3FC;\n",
              "    }\n",
              "\n",
              "    [theme=dark] .colab-df-convert:hover {\n",
              "      background-color: #434B5C;\n",
              "      box-shadow: 0px 1px 3px 1px rgba(0, 0, 0, 0.15);\n",
              "      filter: drop-shadow(0px 1px 2px rgba(0, 0, 0, 0.3));\n",
              "      fill: #FFFFFF;\n",
              "    }\n",
              "  </style>\n",
              "\n",
              "    <script>\n",
              "      const buttonEl =\n",
              "        document.querySelector('#df-c6e944f0-74e5-4707-ae8c-5d1d8de48340 button.colab-df-convert');\n",
              "      buttonEl.style.display =\n",
              "        google.colab.kernel.accessAllowed ? 'block' : 'none';\n",
              "\n",
              "      async function convertToInteractive(key) {\n",
              "        const element = document.querySelector('#df-c6e944f0-74e5-4707-ae8c-5d1d8de48340');\n",
              "        const dataTable =\n",
              "          await google.colab.kernel.invokeFunction('convertToInteractive',\n",
              "                                                    [key], {});\n",
              "        if (!dataTable) return;\n",
              "\n",
              "        const docLinkHtml = 'Like what you see? Visit the ' +\n",
              "          '<a target=\"_blank\" href=https://colab.research.google.com/notebooks/data_table.ipynb>data table notebook</a>'\n",
              "          + ' to learn more about interactive tables.';\n",
              "        element.innerHTML = '';\n",
              "        dataTable['output_type'] = 'display_data';\n",
              "        await google.colab.output.renderOutput(dataTable, element);\n",
              "        const docLink = document.createElement('div');\n",
              "        docLink.innerHTML = docLinkHtml;\n",
              "        element.appendChild(docLink);\n",
              "      }\n",
              "    </script>\n",
              "  </div>\n",
              "\n",
              "\n",
              "<div id=\"df-a746fb21-8322-4a77-af4f-f1f92d9fc37a\">\n",
              "  <button class=\"colab-df-quickchart\" onclick=\"quickchart('df-a746fb21-8322-4a77-af4f-f1f92d9fc37a')\"\n",
              "            title=\"Suggest charts\"\n",
              "            style=\"display:none;\">\n",
              "\n",
              "<svg xmlns=\"http://www.w3.org/2000/svg\" height=\"24px\"viewBox=\"0 0 24 24\"\n",
              "     width=\"24px\">\n",
              "    <g>\n",
              "        <path d=\"M19 3H5c-1.1 0-2 .9-2 2v14c0 1.1.9 2 2 2h14c1.1 0 2-.9 2-2V5c0-1.1-.9-2-2-2zM9 17H7v-7h2v7zm4 0h-2V7h2v10zm4 0h-2v-4h2v4z\"/>\n",
              "    </g>\n",
              "</svg>\n",
              "  </button>\n",
              "\n",
              "<style>\n",
              "  .colab-df-quickchart {\n",
              "      --bg-color: #E8F0FE;\n",
              "      --fill-color: #1967D2;\n",
              "      --hover-bg-color: #E2EBFA;\n",
              "      --hover-fill-color: #174EA6;\n",
              "      --disabled-fill-color: #AAA;\n",
              "      --disabled-bg-color: #DDD;\n",
              "  }\n",
              "\n",
              "  [theme=dark] .colab-df-quickchart {\n",
              "      --bg-color: #3B4455;\n",
              "      --fill-color: #D2E3FC;\n",
              "      --hover-bg-color: #434B5C;\n",
              "      --hover-fill-color: #FFFFFF;\n",
              "      --disabled-bg-color: #3B4455;\n",
              "      --disabled-fill-color: #666;\n",
              "  }\n",
              "\n",
              "  .colab-df-quickchart {\n",
              "    background-color: var(--bg-color);\n",
              "    border: none;\n",
              "    border-radius: 50%;\n",
              "    cursor: pointer;\n",
              "    display: none;\n",
              "    fill: var(--fill-color);\n",
              "    height: 32px;\n",
              "    padding: 0;\n",
              "    width: 32px;\n",
              "  }\n",
              "\n",
              "  .colab-df-quickchart:hover {\n",
              "    background-color: var(--hover-bg-color);\n",
              "    box-shadow: 0 1px 2px rgba(60, 64, 67, 0.3), 0 1px 3px 1px rgba(60, 64, 67, 0.15);\n",
              "    fill: var(--button-hover-fill-color);\n",
              "  }\n",
              "\n",
              "  .colab-df-quickchart-complete:disabled,\n",
              "  .colab-df-quickchart-complete:disabled:hover {\n",
              "    background-color: var(--disabled-bg-color);\n",
              "    fill: var(--disabled-fill-color);\n",
              "    box-shadow: none;\n",
              "  }\n",
              "\n",
              "  .colab-df-spinner {\n",
              "    border: 2px solid var(--fill-color);\n",
              "    border-color: transparent;\n",
              "    border-bottom-color: var(--fill-color);\n",
              "    animation:\n",
              "      spin 1s steps(1) infinite;\n",
              "  }\n",
              "\n",
              "  @keyframes spin {\n",
              "    0% {\n",
              "      border-color: transparent;\n",
              "      border-bottom-color: var(--fill-color);\n",
              "      border-left-color: var(--fill-color);\n",
              "    }\n",
              "    20% {\n",
              "      border-color: transparent;\n",
              "      border-left-color: var(--fill-color);\n",
              "      border-top-color: var(--fill-color);\n",
              "    }\n",
              "    30% {\n",
              "      border-color: transparent;\n",
              "      border-left-color: var(--fill-color);\n",
              "      border-top-color: var(--fill-color);\n",
              "      border-right-color: var(--fill-color);\n",
              "    }\n",
              "    40% {\n",
              "      border-color: transparent;\n",
              "      border-right-color: var(--fill-color);\n",
              "      border-top-color: var(--fill-color);\n",
              "    }\n",
              "    60% {\n",
              "      border-color: transparent;\n",
              "      border-right-color: var(--fill-color);\n",
              "    }\n",
              "    80% {\n",
              "      border-color: transparent;\n",
              "      border-right-color: var(--fill-color);\n",
              "      border-bottom-color: var(--fill-color);\n",
              "    }\n",
              "    90% {\n",
              "      border-color: transparent;\n",
              "      border-bottom-color: var(--fill-color);\n",
              "    }\n",
              "  }\n",
              "</style>\n",
              "\n",
              "  <script>\n",
              "    async function quickchart(key) {\n",
              "      const quickchartButtonEl =\n",
              "        document.querySelector('#' + key + ' button');\n",
              "      quickchartButtonEl.disabled = true;  // To prevent multiple clicks.\n",
              "      quickchartButtonEl.classList.add('colab-df-spinner');\n",
              "      try {\n",
              "        const charts = await google.colab.kernel.invokeFunction(\n",
              "            'suggestCharts', [key], {});\n",
              "      } catch (error) {\n",
              "        console.error('Error during call to suggestCharts:', error);\n",
              "      }\n",
              "      quickchartButtonEl.classList.remove('colab-df-spinner');\n",
              "      quickchartButtonEl.classList.add('colab-df-quickchart-complete');\n",
              "    }\n",
              "    (() => {\n",
              "      let quickchartButtonEl =\n",
              "        document.querySelector('#df-a746fb21-8322-4a77-af4f-f1f92d9fc37a button');\n",
              "      quickchartButtonEl.style.display =\n",
              "        google.colab.kernel.accessAllowed ? 'block' : 'none';\n",
              "    })();\n",
              "  </script>\n",
              "</div>\n",
              "\n",
              "    </div>\n",
              "  </div>\n"
            ],
            "application/vnd.google.colaboratory.intrinsic+json": {
              "type": "dataframe",
              "variable_name": "df",
              "summary": "{\n  \"name\": \"df\",\n  \"rows\": 10000,\n  \"fields\": [\n    {\n      \"column\": \"step\",\n      \"properties\": {\n        \"dtype\": \"number\",\n        \"std\": 2,\n        \"min\": 1,\n        \"max\": 7,\n        \"num_unique_values\": 7,\n        \"samples\": [\n          1,\n          2,\n          6\n        ],\n        \"semantic_type\": \"\",\n        \"description\": \"\"\n      }\n    },\n    {\n      \"column\": \"type\",\n      \"properties\": {\n        \"dtype\": \"category\",\n        \"num_unique_values\": 5,\n        \"samples\": [\n          \"TRANSFER\",\n          \"CASH_IN\",\n          \"CASH_OUT\"\n        ],\n        \"semantic_type\": \"\",\n        \"description\": \"\"\n      }\n    },\n    {\n      \"column\": \"amount\",\n      \"properties\": {\n        \"dtype\": \"number\",\n        \"std\": 266307.19529505004,\n        \"min\": 2.39,\n        \"max\": 10000000.0,\n        \"num_unique_values\": 9954,\n        \"samples\": [\n          56316.65,\n          16898.93,\n          5624.78\n        ],\n        \"semantic_type\": \"\",\n        \"description\": \"\"\n      }\n    },\n    {\n      \"column\": \"nameOrig\",\n      \"properties\": {\n        \"dtype\": \"string\",\n        \"num_unique_values\": 10000,\n        \"samples\": [\n          \"C1612554042\",\n          \"C539322891\",\n          \"C1541075662\"\n        ],\n        \"semantic_type\": \"\",\n        \"description\": \"\"\n      }\n    },\n    {\n      \"column\": \"oldbalanceOrg\",\n      \"properties\": {\n        \"dtype\": \"number\",\n        \"std\": 2135683.034674442,\n        \"min\": 0.0,\n        \"max\": 12930418.44,\n        \"num_unique_values\": 7276,\n        \"samples\": [\n          4402.0,\n          3389293.0,\n          51730.0\n        ],\n        \"semantic_type\": \"\",\n        \"description\": \"\"\n      }\n    },\n    {\n      \"column\": \"newbalanceOrig\",\n      \"properties\": {\n        \"dtype\": \"number\",\n        \"std\": 2181428.456231123,\n        \"min\": 0.0,\n        \"max\": 13010502.78,\n        \"num_unique_values\": 5914,\n        \"samples\": [\n          4196084.96,\n          74177.67,\n          3657343.34\n        ],\n        \"semantic_type\": \"\",\n        \"description\": \"\"\n      }\n    },\n    {\n      \"column\": \"nameDest\",\n      \"properties\": {\n        \"dtype\": \"string\",\n        \"num_unique_values\": 6397,\n        \"samples\": [\n          \"M975733206\",\n          \"M139134521\",\n          \"M1000671313\"\n        ],\n        \"semantic_type\": \"\",\n        \"description\": \"\"\n      }\n    },\n    {\n      \"column\": \"oldbalanceDest\",\n      \"properties\": {\n        \"dtype\": \"number\",\n        \"std\": 2676340.276449047,\n        \"min\": 0.0,\n        \"max\": 19516116.38,\n        \"num_unique_values\": 4317,\n        \"samples\": [\n          96045.02,\n          29479.34,\n          188715.38\n        ],\n        \"semantic_type\": \"\",\n        \"description\": \"\"\n      }\n    },\n    {\n      \"column\": \"newbalanceDest\",\n      \"properties\": {\n        \"dtype\": \"number\",\n        \"std\": 3014496.0040890994,\n        \"min\": 0.0,\n        \"max\": 19169204.93,\n        \"num_unique_values\": 1501,\n        \"samples\": [\n          234828.48,\n          27606.88,\n          54097.39\n        ],\n        \"semantic_type\": \"\",\n        \"description\": \"\"\n      }\n    },\n    {\n      \"column\": \"isFraud\",\n      \"properties\": {\n        \"dtype\": \"number\",\n        \"std\": 0,\n        \"min\": 0,\n        \"max\": 1,\n        \"num_unique_values\": 2,\n        \"samples\": [\n          1,\n          0\n        ],\n        \"semantic_type\": \"\",\n        \"description\": \"\"\n      }\n    },\n    {\n      \"column\": \"isFlaggedFraud\",\n      \"properties\": {\n        \"dtype\": \"number\",\n        \"std\": 0,\n        \"min\": 0,\n        \"max\": 0,\n        \"num_unique_values\": 1,\n        \"samples\": [\n          0\n        ],\n        \"semantic_type\": \"\",\n        \"description\": \"\"\n      }\n    }\n  ]\n}"
            }
          },
          "metadata": {},
          "execution_count": 2
        }
      ],
      "source": [
        "df = pd.read_csv('/content/PS_20174392719_1491204439457_log.csv', nrows=10000)\n",
        "df.head()"
      ]
    },
    {
      "cell_type": "code",
      "execution_count": null,
      "metadata": {
        "colab": {
          "base_uri": "https://localhost:8080/"
        },
        "id": "l3xmwLz9gmT-",
        "outputId": "016eb5d3-ccf0-41a2-c9bd-3121b3d8c723"
      },
      "outputs": [
        {
          "output_type": "stream",
          "name": "stdout",
          "text": [
            "Number of rows: 10000\n",
            "Number of columns: 11\n",
            "\n"
          ]
        }
      ],
      "source": [
        "print(f\"Number of rows: {df.shape[0]}\")\n",
        "print(f\"Number of columns: {df.shape[1]}\\n\")"
      ]
    },
    {
      "cell_type": "code",
      "execution_count": null,
      "metadata": {
        "colab": {
          "base_uri": "https://localhost:8080/"
        },
        "id": "yiLCpJ4Sgn2e",
        "outputId": "5cb59c6f-f569-425b-ce53-6caabb0344de"
      },
      "outputs": [
        {
          "output_type": "stream",
          "name": "stdout",
          "text": [
            "\n",
            "Dataset Info:\n",
            "<class 'pandas.core.frame.DataFrame'>\n",
            "RangeIndex: 10000 entries, 0 to 9999\n",
            "Data columns (total 11 columns):\n",
            " #   Column          Non-Null Count  Dtype  \n",
            "---  ------          --------------  -----  \n",
            " 0   step            10000 non-null  int64  \n",
            " 1   type            10000 non-null  object \n",
            " 2   amount          10000 non-null  float64\n",
            " 3   nameOrig        10000 non-null  object \n",
            " 4   oldbalanceOrg   10000 non-null  float64\n",
            " 5   newbalanceOrig  10000 non-null  float64\n",
            " 6   nameDest        10000 non-null  object \n",
            " 7   oldbalanceDest  10000 non-null  float64\n",
            " 8   newbalanceDest  10000 non-null  float64\n",
            " 9   isFraud         10000 non-null  int64  \n",
            " 10  isFlaggedFraud  10000 non-null  int64  \n",
            "dtypes: float64(5), int64(3), object(3)\n",
            "memory usage: 859.5+ KB\n",
            "None\n"
          ]
        }
      ],
      "source": [
        "print(\"\\nDataset Info:\")\n",
        "print(df.info())"
      ]
    },
    {
      "cell_type": "code",
      "execution_count": null,
      "metadata": {
        "colab": {
          "base_uri": "https://localhost:8080/"
        },
        "id": "WkeHBzBLgrKm",
        "outputId": "91d87c44-b000-4d54-c6ec-ac8a874e5dd1"
      },
      "outputs": [
        {
          "output_type": "stream",
          "name": "stdout",
          "text": [
            "\n",
            "Missing Values:\n",
            " step              0\n",
            "type              0\n",
            "amount            0\n",
            "nameOrig          0\n",
            "oldbalanceOrg     0\n",
            "newbalanceOrig    0\n",
            "nameDest          0\n",
            "oldbalanceDest    0\n",
            "newbalanceDest    0\n",
            "isFraud           0\n",
            "isFlaggedFraud    0\n",
            "dtype: int64\n"
          ]
        }
      ],
      "source": [
        "print(\"\\nMissing Values:\\n\", df.isnull().sum())"
      ]
    },
    {
      "cell_type": "code",
      "execution_count": null,
      "metadata": {
        "id": "AT83EJaGguNT"
      },
      "outputs": [],
      "source": [
        "# --- Feature Engineering ---\n",
        "df['isPayment'] = df['type'].apply(lambda x: 1 if x in ['PAYMENT', 'DEBIT'] else 0)\n",
        "df['isMovement'] = df['type'].apply(lambda x: 1 if x in ['CASH_OUT', 'TRANSFER'] else 0)\n",
        "df['accountDiff'] = df['oldbalanceOrg'] - df['oldbalanceDest']\n",
        "\n",
        "df = df[df['amount'] < 5000000]\n",
        "\n",
        "X = df[['amount', 'isPayment', 'isMovement', 'accountDiff']].values\n",
        "y = df['isFraud'].values"
      ]
    },
    {
      "cell_type": "code",
      "source": [
        "#Standardization\n",
        "X = (X - X.mean(axis=0)) / X.std(axis=0)"
      ],
      "metadata": {
        "id": "2LCFDdqh18et"
      },
      "execution_count": null,
      "outputs": []
    },
    {
      "cell_type": "code",
      "execution_count": null,
      "metadata": {
        "colab": {
          "base_uri": "https://localhost:8080/"
        },
        "id": "MRp0RCMRgz62",
        "outputId": "d06edd8a-ae97-44d8-dfed-8b82ed1a85ae"
      },
      "outputs": [
        {
          "output_type": "stream",
          "name": "stdout",
          "text": [
            "\n",
            "=== After Preprocessing ===\n",
            "Training Samples: 7998\n",
            "Testing Samples: 2000\n"
          ]
        }
      ],
      "source": [
        "from sklearn.model_selection import train_test_split\n",
        "X_train, X_test, y_train, y_test = train_test_split(\n",
        "    X, y, test_size=0.2, random_state=1)\n",
        "\n",
        "print(\"\\n=== After Preprocessing ===\")\n",
        "print(f\"Training Samples: {X_train.shape[0]}\")\n",
        "print(f\"Testing Samples: {X_test.shape[0]}\")"
      ]
    },
    {
      "cell_type": "code",
      "source": [
        "import seaborn as sns\n",
        "from imblearn.over_sampling import SMOTE"
      ],
      "metadata": {
        "id": "oqgXjRnZfHrQ"
      },
      "execution_count": null,
      "outputs": []
    },
    {
      "cell_type": "code",
      "source": [
        "plt.figure(figsize=(6, 4))\n",
        "sns.countplot(x=y_train)\n",
        "plt.title(\"Class Distribution Before SMOTE\")\n",
        "plt.show()"
      ],
      "metadata": {
        "colab": {
          "base_uri": "https://localhost:8080/",
          "height": 391
        },
        "id": "T0FNzOn8fMYh",
        "outputId": "70552af6-d771-4657-dc07-04283e38b20c"
      },
      "execution_count": null,
      "outputs": [
        {
          "output_type": "display_data",
          "data": {
            "text/plain": [
              "<Figure size 600x400 with 1 Axes>"
            ],
            "image/png": "[encoded data removed]"
          },
          "metadata": {}
        }
      ]
    },
    {
      "cell_type": "code",
      "source": [
        "smote = SMOTE(random_state=42)\n",
        "\n",
        "x_train, Y_train = smote.fit_resample(X_train, y_train)\n",
        "plt.figure(figsize=(6, 4))\n",
        "\n",
        "sns.countplot(x=Y_train)\n",
        "\n",
        "plt.title(\"Class Distribution After SMOTE\")\n",
        "\n",
        "plt.show()"
      ],
      "metadata": {
        "colab": {
          "base_uri": "https://localhost:8080/",
          "height": 391
        },
        "id": "hr2EpycEfd1C",
        "outputId": "88abd202-99fb-4e38-a733-0b64ce38f4af"
      },
      "execution_count": null,
      "outputs": [
        {
          "output_type": "display_data",
          "data": {
            "text/plain": [
              "<Figure size 600x400 with 1 Axes>"
            ],
            "image/png": "[encoded data removed]"
          },
          "metadata": {}
        }
      ]
    },
    {
      "cell_type": "code",
      "execution_count": null,
      "metadata": {
        "id": "E-wab8qlg3C8"
      },
      "outputs": [],
      "source": [
        "def accuracy(y_true, y_pred):\n",
        "    return np.mean(y_true == y_pred)"
      ]
    },
    {
      "cell_type": "code",
      "execution_count": null,
      "metadata": {
        "id": "pIEjTEQZg7I4"
      },
      "outputs": [],
      "source": [
        "# Logistic Regression from Scratch\n",
        "class LogisticRegressionScratch:\n",
        "    def __init__(self, lr=0.01, epochs=1000, verbose=True, plot_loss=True):\n",
        "        self.lr = lr\n",
        "        self.epochs = epochs\n",
        "        self.verbose = verbose\n",
        "        self.plot_loss = plot_loss\n",
        "        self.loss_history = []\n",
        "\n",
        "    def sigmoid(self, z):\n",
        "        return 1 / (1 + np.exp(-z))\n",
        "\n",
        "    def compute_loss(self, y, y_pred):\n",
        "        epsilon = 1e-15\n",
        "        y_pred = np.clip(y_pred, epsilon, 1 - epsilon)\n",
        "        return -np.mean(y * np.log(y_pred) + (1 - y) * np.log(1 - y_pred))\n",
        "\n",
        "    def fit(self, X, y):\n",
        "        self.m, self.n = X.shape\n",
        "        self.weights = np.zeros(self.n)\n",
        "        self.bias = 0\n",
        "\n",
        "        for epoch in range(1, self.epochs + 1):\n",
        "            linear = np.dot(X, self.weights) + self.bias\n",
        "            y_pred = self.sigmoid(linear)\n",
        "\n",
        "            dw = (1 / self.m) * np.dot(X.T, (y_pred - y))\n",
        "            db = (1 / self.m) * np.sum(y_pred - y)\n",
        "\n",
        "            self.weights -= self.lr * dw\n",
        "            self.bias -= self.lr * db\n",
        "\n",
        "            loss = self.compute_loss(y, y_pred)\n",
        "            self.loss_history.append(loss)\n",
        "\n",
        "            if self.verbose and epoch % 100 == 0:\n",
        "                print(f\"Epoch {epoch}/{self.epochs} - Loss: {loss:.4f}\")\n",
        "\n",
        "        if self.plot_loss:\n",
        "            self.plot_training_loss()\n",
        "\n",
        "    def predict(self, X):\n",
        "        linear = np.dot(X, self.weights) + self.bias\n",
        "        y_pred = self.sigmoid(linear)\n",
        "        return np.where(y_pred >= 0.5, 1, 0)\n",
        "\n",
        "    def plot_training_loss(self):\n",
        "        plt.figure(figsize=(8, 5))\n",
        "        plt.plot(range(1, self.epochs + 1), self.loss_history, label='Training Loss')\n",
        "        plt.xlabel('Epochs')\n",
        "        plt.ylabel('Loss')\n",
        "        plt.title('Loss over Epochs')\n",
        "        plt.legend()\n",
        "        plt.grid(True)\n",
        "        plt.tight_layout()\n",
        "        plt.show()\n"
      ]
    },
    {
      "cell_type": "code",
      "execution_count": null,
      "metadata": {
        "colab": {
          "base_uri": "https://localhost:8080/",
          "height": 709
        },
        "id": "VsAalXIcg-R0",
        "outputId": "65391f69-8452-412d-98cb-4d69be24ad02"
      },
      "outputs": [
        {
          "output_type": "stream",
          "name": "stdout",
          "text": [
            "Epoch 100/1000 - Loss: 0.5027\n",
            "Epoch 200/1000 - Loss: 0.3831\n",
            "Epoch 300/1000 - Loss: 0.3055\n",
            "Epoch 400/1000 - Loss: 0.2527\n",
            "Epoch 500/1000 - Loss: 0.2152\n",
            "Epoch 600/1000 - Loss: 0.1875\n",
            "Epoch 700/1000 - Loss: 0.1664\n",
            "Epoch 800/1000 - Loss: 0.1499\n",
            "Epoch 900/1000 - Loss: 0.1366\n",
            "Epoch 1000/1000 - Loss: 0.1259\n"
          ]
        },
        {
          "output_type": "display_data",
          "data": {
            "text/plain": [
              "<Figure size 800x500 with 1 Axes>"
            ],
            "image/png": "[encoded data removed]"
          },
          "metadata": {}
        },
        {
          "output_type": "stream",
          "name": "stdout",
          "text": [
            "Logistic Regression Accuracy : 0.9955\n"
          ]
        }
      ],
      "source": [
        "log_reg = LogisticRegressionScratch(lr=0.01, epochs=1000)\n",
        "log_reg.fit(X_train, y_train)\n",
        "y_pred_lr = log_reg.predict(X_test)\n",
        "acc_log_reg = accuracy(y_test, y_pred_lr)\n",
        "\n",
        "print(f\"Logistic Regression Accuracy : {acc_log_reg:.4f}\")"
      ]
    },
    {
      "cell_type": "code",
      "execution_count": null,
      "metadata": {
        "id": "fb7mQjhkhBzW"
      },
      "outputs": [],
      "source": [
        "# KNN from Scratch\n",
        "class KNNScratch:\n",
        "    def __init__(self, k=5, verbose=True):\n",
        "        self.k = k\n",
        "        self.verbose = verbose\n",
        "\n",
        "    def fit(self, X, y):\n",
        "        self.X_train = X\n",
        "        self.y_train = y\n",
        "        total = len(X)\n",
        "\n",
        "        for i in range(total):\n",
        "            if self.verbose and (i + 1) % 1000 == 0:\n",
        "                print(f\"Processed {i + 1}/{total} samples during training\")\n",
        "\n",
        "    def predict(self, X):\n",
        "        preds = []\n",
        "        total = len(X)\n",
        "        for i, x in enumerate(X):\n",
        "            distances = np.sqrt(np.sum((self.X_train - x)**2, axis=1))\n",
        "            k_indices = distances.argsort()[:self.k]\n",
        "            k_nearest_labels = self.y_train[k_indices]\n",
        "            majority_vote = np.bincount(k_nearest_labels).argmax()\n",
        "            preds.append(majority_vote)\n",
        "\n",
        "        return np.array(preds)\n",
        "\n"
      ]
    },
    {
      "cell_type": "code",
      "source": [
        "knn = KNNScratch(k=5)\n",
        "knn.fit(X_train, y_train)\n",
        "y_pred_knn = knn.predict(X_test)\n",
        "acc_knn = accuracy(y_test, y_pred_knn)\n",
        "\n",
        "print(f\"KNN Accuracy : {acc_knn:.4f}\")"
      ],
      "metadata": {
        "colab": {
          "base_uri": "https://localhost:8080/"
        },
        "id": "1-2UE9fcwhoM",
        "outputId": "bbc69bdb-815d-45a0-f544-71fe7bcdf69b"
      },
      "execution_count": null,
      "outputs": [
        {
          "output_type": "stream",
          "name": "stdout",
          "text": [
            "Processed 1000/7998 samples during training\n",
            "Processed 2000/7998 samples during training\n",
            "Processed 3000/7998 samples during training\n",
            "Processed 4000/7998 samples during training\n",
            "Processed 5000/7998 samples during training\n",
            "Processed 6000/7998 samples during training\n",
            "Processed 7000/7998 samples during training\n",
            "KNN Accuracy : 0.9915\n"
          ]
        }
      ]
    },
    {
      "cell_type": "code",
      "execution_count": null,
      "metadata": {
        "id": "SCBw__xHhHTt"
      },
      "outputs": [],
      "source": [
        "# Naive Bayes from Scratch\n",
        "import numpy as np\n",
        "\n",
        "class NaiveBayesScratch:\n",
        "    def __init__(self, verbose=True):\n",
        "        self.verbose = verbose\n",
        "\n",
        "    def fit(self, X, y):\n",
        "        self.classes = np.unique(y)\n",
        "        self.mean = {}\n",
        "        self.var = {}\n",
        "        self.priors = {}\n",
        "        total_classes = len(self.classes)\n",
        "\n",
        "        for i, c in enumerate(self.classes):\n",
        "            X_c = X[y == c]\n",
        "            self.mean[c] = X_c.mean(axis=0)\n",
        "            self.var[c] = X_c.var(axis=0) + 1e-6\n",
        "            self.priors[c] = X_c.shape[0] / X.shape[0]\n",
        "\n",
        "    def predict(self, X):\n",
        "        preds = []\n",
        "        total = len(X)\n",
        "        for i, x in enumerate(X):\n",
        "            posteriors = []\n",
        "            for c in self.classes:\n",
        "                prior = np.log(self.priors[c])\n",
        "                likelihood = -0.5 * np.sum(np.log(2 * np.pi * self.var[c]))\n",
        "                likelihood -= 0.5 * np.sum(((x - self.mean[c]) ** 2) / self.var[c])\n",
        "                posterior = prior + likelihood\n",
        "                posteriors.append(posterior)\n",
        "            preds.append(self.classes[np.argmax(posteriors)])\n",
        "\n",
        "        return np.array(preds)"
      ]
    },
    {
      "cell_type": "code",
      "execution_count": null,
      "metadata": {
        "colab": {
          "base_uri": "https://localhost:8080/"
        },
        "id": "9IHEkYJbhKtx",
        "outputId": "efd393f1-eca9-4361-9025-ebbc7a07ed38"
      },
      "outputs": [
        {
          "output_type": "stream",
          "name": "stdout",
          "text": [
            "Naive Bayes Accuracy : 0.8200\n"
          ]
        }
      ],
      "source": [
        "nb = NaiveBayesScratch()\n",
        "nb.fit(X_train, y_train)\n",
        "y_pred_nb = nb.predict(X_test)\n",
        "acc_nb = accuracy(y_test, y_pred_nb)\n",
        "\n",
        "print(f\"Naive Bayes Accuracy : {acc_nb:.4f}\")"
      ]
    },
    {
      "cell_type": "code",
      "execution_count": null,
      "metadata": {
        "id": "xd6LilPshNoh"
      },
      "outputs": [],
      "source": [
        "# --- SVM  ---\n",
        "class SVMScratch:\n",
        "    def __init__(self, lr=0.001, epochs=1000, lambda_param=0.01, verbose=True):\n",
        "        self.lr = lr\n",
        "        self.epochs = epochs\n",
        "        self.lambda_param = lambda_param\n",
        "        self.verbose = verbose\n",
        "\n",
        "    def fit(self, X, y):\n",
        "        y_ = np.where(y <= 0, -1, 1)\n",
        "        self.weights = np.zeros(X.shape[1])\n",
        "        self.bias = 0\n",
        "\n",
        "        for epoch in range(self.epochs):\n",
        "            for idx, xi in enumerate(X):\n",
        "                condition = y_[idx] * (np.dot(xi, self.weights) - self.bias) >= 1\n",
        "                if condition:\n",
        "                    self.weights -= self.lr * (2 * self.lambda_param * self.weights)\n",
        "                else:\n",
        "                    self.weights -= self.lr * (2 * self.lambda_param * self.weights - np.dot(xi, y_[idx]))\n",
        "                    self.bias -= self.lr * y_[idx]\n",
        "\n",
        "            if self.verbose and (epoch + 1) % 100 == 0:\n",
        "                print(f\"Epoch {epoch + 1}/{self.epochs} completed\")\n",
        "\n",
        "    def predict(self, X):\n",
        "        approx = np.dot(X, self.weights) - self.bias\n",
        "        return np.where(approx >= 0, 1, 0)\n"
      ]
    },
    {
      "cell_type": "code",
      "execution_count": null,
      "metadata": {
        "colab": {
          "base_uri": "https://localhost:8080/"
        },
        "id": "vMefFdxWhRO7",
        "outputId": "21ba3825-c311-4419-a70e-90eeea90b28b"
      },
      "outputs": [
        {
          "output_type": "stream",
          "name": "stdout",
          "text": [
            "Epoch 100/1000 completed\n",
            "Epoch 200/1000 completed\n",
            "Epoch 300/1000 completed\n",
            "Epoch 400/1000 completed\n",
            "Epoch 500/1000 completed\n",
            "Epoch 600/1000 completed\n",
            "Epoch 700/1000 completed\n",
            "Epoch 800/1000 completed\n",
            "Epoch 900/1000 completed\n",
            "Epoch 1000/1000 completed\n",
            "SVM Accuracy : 0.9955\n"
          ]
        }
      ],
      "source": [
        "svm = SVMScratch(lr=0.01, epochs=1000)\n",
        "svm.fit(X_train, y_train)\n",
        "y_pred_svm = svm.predict(X_test)\n",
        "acc_svm = accuracy(y_test, y_pred_svm)\n",
        "print(f\"SVM Accuracy : {acc_svm:.4f}\")"
      ]
    },
    {
      "cell_type": "code",
      "execution_count": null,
      "metadata": {
        "colab": {
          "base_uri": "https://localhost:8080/"
        },
        "id": "T7vjbbfOhfNI",
        "outputId": "49041191-464f-40fb-8171-88c6b6dc83d6"
      },
      "outputs": [
        {
          "output_type": "stream",
          "name": "stdout",
          "text": [
            "\n",
            "=== Final Model Comparison Report (Scratch) ===\n",
            "Logistic Regression Accuracy : 0.9955\n",
            "KNN Accuracy : 0.9915\n",
            "Naive Bayes Accuracy : 0.8200\n",
            "SVM Accuracy : 0.9955\n"
          ]
        }
      ],
      "source": [
        "print(\"\\n=== Final Model Comparison Report (Scratch) ===\")\n",
        "print(f\"Logistic Regression Accuracy : {acc_log_reg:.4f}\")\n",
        "print(f\"KNN Accuracy : {acc_knn:.4f}\")\n",
        "print(f\"Naive Bayes Accuracy : {acc_nb:.4f}\")\n",
        "print(f\"SVM Accuracy : {acc_svm:.4f}\")"
      ]
    },
    {
      "cell_type": "code",
      "execution_count": null,
      "metadata": {
        "colab": {
          "base_uri": "https://localhost:8080/",
          "height": 708
        },
        "id": "kR7JOb5mhgse",
        "outputId": "f2182070-2f9b-4298-c373-3bcbf4d35625"
      },
      "outputs": [
        {
          "output_type": "display_data",
          "data": {
            "text/plain": [
              "<Figure size 1200x700 with 1 Axes>"
            ],
            "image/png": "[encoded data removed]"
          },
          "metadata": {}
        }
      ],
      "source": [
        "models = ['Logistic Regression', 'KNN', 'Naive Bayes', 'SVM' ]\n",
        "accuracies = [acc_log_reg, acc_knn, acc_nb, acc_svm]\n",
        "\n",
        "colors = ['#4D77FF', '#FFA500', '#00C49A', '#FF69B4']\n",
        "\n",
        "# Plot\n",
        "plt.figure(figsize=(12,7))\n",
        "bars = plt.bar(models, accuracies, color=colors, edgecolor='black', linewidth=1.2)\n",
        "\n",
        "plt.title('Model Accuracy Comparison (From Scratch)', fontsize=20, fontweight='bold', pad=20)\n",
        "plt.suptitle('Fraud Detection Models', fontsize=14, color='gray')\n",
        "plt.ylabel('Accuracy', fontsize=16)\n",
        "plt.xlabel('Models', fontsize=16)\n",
        "plt.ylim(0, 1.1)\n",
        "plt.grid(axis='y', linestyle='--', alpha=0.7)\n",
        "\n",
        "for bar, acc in zip(bars, accuracies):\n",
        "    yval = bar.get_height()\n",
        "    plt.text(bar.get_x() + bar.get_width()/2.0, yval + 0.02, f'{acc:.3f}', ha='center', va='bottom', fontsize=12, fontweight='bold')\n",
        "\n",
        "plt.tight_layout()\n",
        "plt.show()\n"
      ]
    },
    {
      "cell_type": "code",
      "execution_count": null,
      "metadata": {
        "id": "qIdZboPbhjn8"
      },
      "outputs": [],
      "source": [
        "def majority_voting(preds_list):\n",
        "    preds_array = np.array(preds_list)\n",
        "    final_preds = [np.bincount(preds).argmax() for preds in preds_array.T]\n",
        "    return np.array(final_preds)"
      ]
    },
    {
      "cell_type": "code",
      "execution_count": null,
      "metadata": {
        "colab": {
          "base_uri": "https://localhost:8080/"
        },
        "id": "RaexAQ4ahmvc",
        "outputId": "9fe0089c-52b1-444d-8de6-ec2bd59b21aa"
      },
      "outputs": [
        {
          "output_type": "stream",
          "name": "stdout",
          "text": [
            "Legitimate Test Case - \n",
            "Input: [2000.00    1.00    0.00  100.00]\n",
            "Logistic Regression: 1\n",
            "KNN: 0\n",
            "Naive Bayes: 0\n",
            "SVM: 1\n",
            "Majority Vote: 0\n",
            "\n",
            "Suspicious Test Case - \n",
            "Input: [999999.00      0.00      1.00  -5000.00]\n",
            "Logistic Regression: 1\n",
            "KNN: 0\n",
            "Naive Bayes: 1\n",
            "SVM: 1\n",
            "Majority Vote: 1\n"
          ]
        }
      ],
      "source": [
        "# Example manual test inputs\n",
        "X_legit = np.array([[2000.0, 1, 0, 100.0]])          # Legitimate\n",
        "X_suspicious = np.array([[999999.0, 0, 1, -5000.0]]) # Suspicious\n",
        "np.set_printoptions(suppress=True, precision=2, floatmode='fixed')\n",
        "\n",
        "print(\"Legitimate Test Case - \")\n",
        "print(\"Input:\", X_legit[0])\n",
        "print(\"Logistic Regression:\", log_reg.predict(X_legit)[0])\n",
        "print(\"KNN:\", knn.predict(X_legit)[0])\n",
        "print(\"Naive Bayes:\", nb.predict(X_legit)[0])\n",
        "print(\"SVM:\", svm.predict(X_legit)[0])\n",
        "preds_legit = [log_reg.predict(X_legit), knn.predict(X_legit), nb.predict(X_legit), svm.predict(X_legit)]\n",
        "print(\"Majority Vote:\", majority_voting(preds_legit)[0])\n",
        "\n",
        "print(\"\\nSuspicious Test Case - \")\n",
        "print(\"Input:\", X_suspicious[0])\n",
        "print(\"Logistic Regression:\", log_reg.predict(X_suspicious)[0])\n",
        "print(\"KNN:\", knn.predict(X_suspicious)[0])\n",
        "print(\"Naive Bayes:\", nb.predict(X_suspicious)[0])\n",
        "print(\"SVM:\", svm.predict(X_suspicious)[0])\n",
        "preds_suspicious = [log_reg.predict(X_suspicious), knn.predict(X_suspicious), nb.predict(X_suspicious), svm.predict(X_suspicious)]\n",
        "print(\"Majority Vote:\", majority_voting(preds_suspicious)[0])"
      ]
    },
    {
      "cell_type": "code",
      "source": [
        "models = {\n",
        "    'knn_model.pkl': knn,\n",
        "    'nb_model.pkl': nb,\n",
        "    'log_reg_model.pkl': log_reg,\n",
        "    'svm_model.pkl': svm,\n",
        "}\n",
        "\n",
        "import pickle\n",
        "from google.colab import files\n",
        "\n",
        "for filename, model in models.items():\n",
        "    with open(filename, 'wb') as f:\n",
        "        pickle.dump(model, f)\n",
        "    files.download(filename)\n"
      ],
      "metadata": {
        "colab": {
          "base_uri": "https://localhost:8080/",
          "height": 17
        },
        "id": "8jbw0aJeMn1G",
        "outputId": "897ca663-3567-49fc-9193-a8f6d1f4a916"
      },
      "execution_count": null,
      "outputs": [
        {
          "output_type": "display_data",
          "data": {
            "text/plain": [
              "<IPython.core.display.Javascript object>"
            ],
            "application/javascript": [
              "\n",
              "    async function download(id, filename, size) {\n",
              "      if (!google.colab.kernel.accessAllowed) {\n",
              "        return;\n",
              "      }\n",
              "      const div = document.createElement('div');\n",
              "      const label = document.createElement('label');\n",
              "      label.textContent = `Downloading \"${filename}\": `;\n",
              "      div.appendChild(label);\n",
              "      const progress = document.createElement('progress');\n",
              "      progress.max = size;\n",
              "      div.appendChild(progress);\n",
              "      document.body.appendChild(div);\n",
              "\n",
              "      const buffers = [];\n",
              "      let downloaded = 0;\n",
              "\n",
              "      const channel = await google.colab.kernel.comms.open(id);\n",
              "      // Send a message to notify the kernel that we're ready.\n",
              "      channel.send({})\n",
              "\n",
              "      for await (const message of channel.messages) {\n",
              "        // Send a message to notify the kernel that we're ready.\n",
              "        channel.send({})\n",
              "        if (message.buffers) {\n",
              "          for (const buffer of message.buffers) {\n",
              "            buffers.push(buffer);\n",
              "            downloaded += buffer.byteLength;\n",
              "            progress.value = downloaded;\n",
              "          }\n",
              "        }\n",
              "      }\n",
              "      const blob = new Blob(buffers, {type: 'application/binary'});\n",
              "      const a = document.createElement('a');\n",
              "      a.href = window.URL.createObjectURL(blob);\n",
              "      a.download = filename;\n",
              "      div.appendChild(a);\n",
              "      a.click();\n",
              "      div.remove();\n",
              "    }\n",
              "  "
            ]
          },
          "metadata": {}
        },
        {
          "output_type": "display_data",
          "data": {
            "text/plain": [
              "<IPython.core.display.Javascript object>"
            ],
            "application/javascript": [
              "download(\"download_67a9b649-5c7d-4419-b3fe-8a62d8038f16\", \"knn_model.pkl\", 320222)"
            ]
          },
          "metadata": {}
        },
        {
          "output_type": "display_data",
          "data": {
            "text/plain": [
              "<IPython.core.display.Javascript object>"
            ],
            "application/javascript": [
              "\n",
              "    async function download(id, filename, size) {\n",
              "      if (!google.colab.kernel.accessAllowed) {\n",
              "        return;\n",
              "      }\n",
              "      const div = document.createElement('div');\n",
              "      const label = document.createElement('label');\n",
              "      label.textContent = `Downloading \"${filename}\": `;\n",
              "      div.appendChild(label);\n",
              "      const progress = document.createElement('progress');\n",
              "      progress.max = size;\n",
              "      div.appendChild(progress);\n",
              "      document.body.appendChild(div);\n",
              "\n",
              "      const buffers = [];\n",
              "      let downloaded = 0;\n",
              "\n",
              "      const channel = await google.colab.kernel.comms.open(id);\n",
              "      // Send a message to notify the kernel that we're ready.\n",
              "      channel.send({})\n",
              "\n",
              "      for await (const message of channel.messages) {\n",
              "        // Send a message to notify the kernel that we're ready.\n",
              "        channel.send({})\n",
              "        if (message.buffers) {\n",
              "          for (const buffer of message.buffers) {\n",
              "            buffers.push(buffer);\n",
              "            downloaded += buffer.byteLength;\n",
              "            progress.value = downloaded;\n",
              "          }\n",
              "        }\n",
              "      }\n",
              "      const blob = new Blob(buffers, {type: 'application/binary'});\n",
              "      const a = document.createElement('a');\n",
              "      a.href = window.URL.createObjectURL(blob);\n",
              "      a.download = filename;\n",
              "      div.appendChild(a);\n",
              "      a.click();\n",
              "      div.remove();\n",
              "    }\n",
              "  "
            ]
          },
          "metadata": {}
        },
        {
          "output_type": "display_data",
          "data": {
            "text/plain": [
              "<IPython.core.display.Javascript object>"
            ],
            "application/javascript": [
              "download(\"download_16597d4f-a04f-4a2e-b6fd-c26b72b41302\", \"nb_model.pkl\", 617)"
            ]
          },
          "metadata": {}
        },
        {
          "output_type": "display_data",
          "data": {
            "text/plain": [
              "<IPython.core.display.Javascript object>"
            ],
            "application/javascript": [
              "\n",
              "    async function download(id, filename, size) {\n",
              "      if (!google.colab.kernel.accessAllowed) {\n",
              "        return;\n",
              "      }\n",
              "      const div = document.createElement('div');\n",
              "      const label = document.createElement('label');\n",
              "      label.textContent = `Downloading \"${filename}\": `;\n",
              "      div.appendChild(label);\n",
              "      const progress = document.createElement('progress');\n",
              "      progress.max = size;\n",
              "      div.appendChild(progress);\n",
              "      document.body.appendChild(div);\n",
              "\n",
              "      const buffers = [];\n",
              "      let downloaded = 0;\n",
              "\n",
              "      const channel = await google.colab.kernel.comms.open(id);\n",
              "      // Send a message to notify the kernel that we're ready.\n",
              "      channel.send({})\n",
              "\n",
              "      for await (const message of channel.messages) {\n",
              "        // Send a message to notify the kernel that we're ready.\n",
              "        channel.send({})\n",
              "        if (message.buffers) {\n",
              "          for (const buffer of message.buffers) {\n",
              "            buffers.push(buffer);\n",
              "            downloaded += buffer.byteLength;\n",
              "            progress.value = downloaded;\n",
              "          }\n",
              "        }\n",
              "      }\n",
              "      const blob = new Blob(buffers, {type: 'application/binary'});\n",
              "      const a = document.createElement('a');\n",
              "      a.href = window.URL.createObjectURL(blob);\n",
              "      a.download = filename;\n",
              "      div.appendChild(a);\n",
              "      a.click();\n",
              "      div.remove();\n",
              "    }\n",
              "  "
            ]
          },
          "metadata": {}
        },
        {
          "output_type": "display_data",
          "data": {
            "text/plain": [
              "<IPython.core.display.Javascript object>"
            ],
            "application/javascript": [
              "download(\"download_eb4618f4-afd0-49c6-8c27-3c529029f876\", \"log_reg_model.pkl\", 19358)"
            ]
          },
          "metadata": {}
        },
        {
          "output_type": "display_data",
          "data": {
            "text/plain": [
              "<IPython.core.display.Javascript object>"
            ],
            "application/javascript": [
              "\n",
              "    async function download(id, filename, size) {\n",
              "      if (!google.colab.kernel.accessAllowed) {\n",
              "        return;\n",
              "      }\n",
              "      const div = document.createElement('div');\n",
              "      const label = document.createElement('label');\n",
              "      label.textContent = `Downloading \"${filename}\": `;\n",
              "      div.appendChild(label);\n",
              "      const progress = document.createElement('progress');\n",
              "      progress.max = size;\n",
              "      div.appendChild(progress);\n",
              "      document.body.appendChild(div);\n",
              "\n",
              "      const buffers = [];\n",
              "      let downloaded = 0;\n",
              "\n",
              "      const channel = await google.colab.kernel.comms.open(id);\n",
              "      // Send a message to notify the kernel that we're ready.\n",
              "      channel.send({})\n",
              "\n",
              "      for await (const message of channel.messages) {\n",
              "        // Send a message to notify the kernel that we're ready.\n",
              "        channel.send({})\n",
              "        if (message.buffers) {\n",
              "          for (const buffer of message.buffers) {\n",
              "            buffers.push(buffer);\n",
              "            downloaded += buffer.byteLength;\n",
              "            progress.value = downloaded;\n",
              "          }\n",
              "        }\n",
              "      }\n",
              "      const blob = new Blob(buffers, {type: 'application/binary'});\n",
              "      const a = document.createElement('a');\n",
              "      a.href = window.URL.createObjectURL(blob);\n",
              "      a.download = filename;\n",
              "      div.appendChild(a);\n",
              "      a.click();\n",
              "      div.remove();\n",
              "    }\n",
              "  "
            ]
          },
          "metadata": {}
        },
        {
          "output_type": "display_data",
          "data": {
            "text/plain": [
              "<IPython.core.display.Javascript object>"
            ],
            "application/javascript": [
              "download(\"download_e4f86c2a-3aae-4fb2-b5b3-f121c4cfae7a\", \"svm_model.pkl\", 322)"
            ]
          },
          "metadata": {}
        }
      ]
    },
    {
      "cell_type": "code",
      "source": [
        "!pip install streamlit numpy pandas scikit-learn pyngrok"
      ],
      "metadata": {
        "colab": {
          "base_uri": "https://localhost:8080/"
        },
        "id": "O1wE8OdBNRhT",
        "outputId": "cf88e3a4-70d6-47e2-9acb-272e0faf34a7"
      },
      "execution_count": null,
      "outputs": [
        {
          "output_type": "stream",
          "name": "stdout",
          "text": [
            "Collecting streamlit\n",
            "  Downloading streamlit-1.44.1-py3-none-any.whl.metadata (8.9 kB)\n",
            "Requirement already satisfied: numpy in /usr/local/lib/python3.11/dist-packages (2.0.2)\n",
            "Requirement already satisfied: pandas in /usr/local/lib/python3.11/dist-packages (2.2.2)\n",
            "Requirement already satisfied: scikit-learn in /usr/local/lib/python3.11/dist-packages (1.6.1)\n",
            "Collecting pyngrok\n",
            "  Downloading pyngrok-7.2.4-py3-none-any.whl.metadata (8.7 kB)\n",
            "Requirement already satisfied: altair<6,>=4.0 in /usr/local/lib/python3.11/dist-packages (from streamlit) (5.5.0)\n",
            "Requirement already satisfied: blinker<2,>=1.0.0 in /usr/local/lib/python3.11/dist-packages (from streamlit) (1.9.0)\n",
            "Requirement already satisfied: cachetools<6,>=4.0 in /usr/local/lib/python3.11/dist-packages (from streamlit) (5.5.2)\n",
            "Requirement already satisfied: click<9,>=7.0 in /usr/local/lib/python3.11/dist-packages (from streamlit) (8.1.8)\n",
            "Requirement already satisfied: packaging<25,>=20 in /usr/local/lib/python3.11/dist-packages (from streamlit) (24.2)\n",
            "Requirement already satisfied: pillow<12,>=7.1.0 in /usr/local/lib/python3.11/dist-packages (from streamlit) (11.1.0)\n",
            "Requirement already satisfied: protobuf<6,>=3.20 in /usr/local/lib/python3.11/dist-packages (from streamlit) (5.29.4)\n",
            "Requirement already satisfied: pyarrow>=7.0 in /usr/local/lib/python3.11/dist-packages (from streamlit) (18.1.0)\n",
            "Requirement already satisfied: requests<3,>=2.27 in /usr/local/lib/python3.11/dist-packages (from streamlit) (2.32.3)\n",
            "Requirement already satisfied: tenacity<10,>=8.1.0 in /usr/local/lib/python3.11/dist-packages (from streamlit) (9.1.2)\n",
            "Requirement already satisfied: toml<2,>=0.10.1 in /usr/local/lib/python3.11/dist-packages (from streamlit) (0.10.2)\n",
            "Requirement already satisfied: typing-extensions<5,>=4.4.0 in /usr/local/lib/python3.11/dist-packages (from streamlit) (4.13.2)\n",
            "Collecting watchdog<7,>=2.1.5 (from streamlit)\n",
            "  Downloading watchdog-6.0.0-py3-none-manylinux2014_x86_64.whl.metadata (44 kB)\n",
            "\u001b[2K     \u001b[90m━━━━━━━━━━━━━━━━━━━━━━━━━━━━━━━━━━━━━━━━\u001b[0m \u001b[32m44.3/44.3 kB\u001b[0m \u001b[31m2.4 MB/s\u001b[0m eta \u001b[36m0:00:00\u001b[0m\n",
            "\u001b[?25hRequirement already satisfied: gitpython!=3.1.19,<4,>=3.0.7 in /usr/local/lib/python3.11/dist-packages (from streamlit) (3.1.44)\n",
            "Collecting pydeck<1,>=0.8.0b4 (from streamlit)\n",
            "  Downloading pydeck-0.9.1-py2.py3-none-any.whl.metadata (4.1 kB)\n",
            "Requirement already satisfied: tornado<7,>=6.0.3 in /usr/local/lib/python3.11/dist-packages (from streamlit) (6.4.2)\n",
            "Requirement already satisfied: python-dateutil>=2.8.2 in /usr/local/lib/python3.11/dist-packages (from pandas) (2.8.2)\n",
            "Requirement already satisfied: pytz>=2020.1 in /usr/local/lib/python3.11/dist-packages (from pandas) (2025.2)\n",
            "Requirement already satisfied: tzdata>=2022.7 in /usr/local/lib/python3.11/dist-packages (from pandas) (2025.2)\n",
            "Requirement already satisfied: scipy>=1.6.0 in /usr/local/lib/python3.11/dist-packages (from scikit-learn) (1.14.1)\n",
            "Requirement already satisfied: joblib>=1.2.0 in /usr/local/lib/python3.11/dist-packages (from scikit-learn) (1.4.2)\n",
            "Requirement already satisfied: threadpoolctl>=3.1.0 in /usr/local/lib/python3.11/dist-packages (from scikit-learn) (3.6.0)\n",
            "Requirement already satisfied: PyYAML>=5.1 in /usr/local/lib/python3.11/dist-packages (from pyngrok) (6.0.2)\n",
            "Requirement already satisfied: jinja2 in /usr/local/lib/python3.11/dist-packages (from altair<6,>=4.0->streamlit) (3.1.6)\n",
            "Requirement already satisfied: jsonschema>=3.0 in /usr/local/lib/python3.11/dist-packages (from altair<6,>=4.0->streamlit) (4.23.0)\n",
            "Requirement already satisfied: narwhals>=1.14.2 in /usr/local/lib/python3.11/dist-packages (from altair<6,>=4.0->streamlit) (1.35.0)\n",
            "Requirement already satisfied: gitdb<5,>=4.0.1 in /usr/local/lib/python3.11/dist-packages (from gitpython!=3.1.19,<4,>=3.0.7->streamlit) (4.0.12)\n",
            "Requirement already satisfied: six>=1.5 in /usr/local/lib/python3.11/dist-packages (from python-dateutil>=2.8.2->pandas) (1.17.0)\n",
            "Requirement already satisfied: charset-normalizer<4,>=2 in /usr/local/lib/python3.11/dist-packages (from requests<3,>=2.27->streamlit) (3.4.1)\n",
            "Requirement already satisfied: idna<4,>=2.5 in /usr/local/lib/python3.11/dist-packages (from requests<3,>=2.27->streamlit) (3.10)\n",
            "Requirement already satisfied: urllib3<3,>=1.21.1 in /usr/local/lib/python3.11/dist-packages (from requests<3,>=2.27->streamlit) (2.3.0)\n",
            "Requirement already satisfied: certifi>=2017.4.17 in /usr/local/lib/python3.11/dist-packages (from requests<3,>=2.27->streamlit) (2025.1.31)\n",
            "Requirement already satisfied: smmap<6,>=3.0.1 in /usr/local/lib/python3.11/dist-packages (from gitdb<5,>=4.0.1->gitpython!=3.1.19,<4,>=3.0.7->streamlit) (5.0.2)\n",
            "Requirement already satisfied: MarkupSafe>=2.0 in /usr/local/lib/python3.11/dist-packages (from jinja2->altair<6,>=4.0->streamlit) (3.0.2)\n",
            "Requirement already satisfied: attrs>=22.2.0 in /usr/local/lib/python3.11/dist-packages (from jsonschema>=3.0->altair<6,>=4.0->streamlit) (25.3.0)\n",
            "Requirement already satisfied: jsonschema-specifications>=2023.03.6 in /usr/local/lib/python3.11/dist-packages (from jsonschema>=3.0->altair<6,>=4.0->streamlit) (2024.10.1)\n",
            "Requirement already satisfied: referencing>=0.28.4 in /usr/local/lib/python3.11/dist-packages (from jsonschema>=3.0->altair<6,>=4.0->streamlit) (0.36.2)\n",
            "Requirement already satisfied: rpds-py>=0.7.1 in /usr/local/lib/python3.11/dist-packages (from jsonschema>=3.0->altair<6,>=4.0->streamlit) (0.24.0)\n",
            "Downloading streamlit-1.44.1-py3-none-any.whl (9.8 MB)\n",
            "\u001b[2K   \u001b[90m━━━━━━━━━━━━━━━━━━━━━━━━━━━━━━━━━━━━━━━━\u001b[0m \u001b[32m9.8/9.8 MB\u001b[0m \u001b[31m75.8 MB/s\u001b[0m eta \u001b[36m0:00:00\u001b[0m\n",
            "\u001b[?25hDownloading pyngrok-7.2.4-py3-none-any.whl (23 kB)\n",
            "Downloading pydeck-0.9.1-py2.py3-none-any.whl (6.9 MB)\n",
            "\u001b[2K   \u001b[90m━━━━━━━━━━━━━━━━━━━━━━━━━━━━━━━━━━━━━━━━\u001b[0m \u001b[32m6.9/6.9 MB\u001b[0m \u001b[31m73.9 MB/s\u001b[0m eta \u001b[36m0:00:00\u001b[0m\n",
            "\u001b[?25hDownloading watchdog-6.0.0-py3-none-manylinux2014_x86_64.whl (79 kB)\n",
            "\u001b[2K   \u001b[90m━━━━━━━━━━━━━━━━━━━━━━━━━━━━━━━━━━━━━━━━\u001b[0m \u001b[32m79.1/79.1 kB\u001b[0m \u001b[31m5.9 MB/s\u001b[0m eta \u001b[36m0:00:00\u001b[0m\n",
            "\u001b[?25hInstalling collected packages: watchdog, pyngrok, pydeck, streamlit\n",
            "Successfully installed pydeck-0.9.1 pyngrok-7.2.4 streamlit-1.44.1 watchdog-6.0.0\n"
          ]
        }
      ]
    },
    {
      "cell_type": "code",
      "source": [
        "import numpy as np\n",
        "import pandas as pd\n",
        "from sklearn.preprocessing import StandardScaler\n",
        "import pickle\n",
        "from pyngrok import ngrok\n",
        "import os\n"
      ],
      "metadata": {
        "id": "x3cAoTxnXnMN"
      },
      "execution_count": null,
      "outputs": []
    },
    {
      "cell_type": "code",
      "source": [
        "app_code = \"\"\"\n",
        "import streamlit as st\n",
        "import numpy as np\n",
        "import pandas as pd\n",
        "import matplotlib.pyplot as plt\n",
        "from collections import Counter\n",
        "\n",
        "# Load and preprocess data\n",
        "df = pd.read_csv('/content/PS_20174392719_1491204439457_log.csv', nrows=10000)\n",
        "df['isPayment'] = df['type'].apply(lambda x: 1 if x in ['PAYMENT', 'DEBIT'] else 0)\n",
        "df['isMovement'] = df['type'].apply(lambda x: 1 if x in ['CASH_OUT', 'TRANSFER'] else 0)\n",
        "df['accountDiff'] = df['oldbalanceOrg'] - df['oldbalanceDest']\n",
        "df = df[df['amount'] < 5000000]\n",
        "\n",
        "X = df[['amount', 'isPayment', 'isMovement', 'accountDiff']].values\n",
        "y = df['isFraud'].values\n",
        "\n",
        "# Normalize input features\n",
        "X_mean = X.mean(axis=0)\n",
        "X_std = X.std(axis=0)\n",
        "X = (X - X_mean) / X_std\n",
        "\n",
        "from sklearn.model_selection import train_test_split\n",
        "X_train, X_test, y_train, y_test = train_test_split(X, y, test_size=0.25, random_state=1)\n",
        "\n",
        "# Logistic Regression from Scratch\n",
        "class LogisticRegressionScratch:\n",
        "    def __init__(self, lr=0.01, epochs=1000):\n",
        "        self.lr = lr\n",
        "        self.epochs = epochs\n",
        "        self.loss_history = []\n",
        "\n",
        "    def sigmoid(self, z):\n",
        "        return 1 / (1 + np.exp(-z))\n",
        "\n",
        "    def compute_loss(self, y, y_pred):\n",
        "        epsilon = 1e-15\n",
        "        y_pred = np.clip(y_pred, epsilon, 1 - epsilon)\n",
        "        return -np.mean(y * np.log(y_pred) + (1 - y) * np.log(1 - y_pred))\n",
        "\n",
        "    def fit(self, X, y):\n",
        "        self.m, self.n = X.shape\n",
        "        self.weights = np.zeros(self.n)\n",
        "        self.bias = 0\n",
        "\n",
        "        for _ in range(self.epochs):\n",
        "            linear = np.dot(X, self.weights) + self.bias\n",
        "            y_pred = self.sigmoid(linear)\n",
        "\n",
        "            dw = (1 / self.m) * np.dot(X.T, (y_pred - y))\n",
        "            db = (1 / self.m) * np.sum(y_pred - y)\n",
        "\n",
        "            self.weights -= self.lr * dw\n",
        "            self.bias -= self.lr * db\n",
        "\n",
        "            loss = self.compute_loss(y, y_pred)\n",
        "            self.loss_history.append(loss)\n",
        "\n",
        "    def predict(self, X):\n",
        "        linear = np.dot(X, self.weights) + self.bias\n",
        "        y_pred = self.sigmoid(linear)\n",
        "        return np.where(y_pred >= 0.5, 1, 0)\n",
        "\n",
        "# KNN from Scratch\n",
        "class KNNScratch:\n",
        "    def __init__(self, k=5):\n",
        "        self.k = k\n",
        "\n",
        "    def fit(self, X, y):\n",
        "        self.X_train = X\n",
        "        self.y_train = y\n",
        "\n",
        "    def predict(self, X):\n",
        "        preds = []\n",
        "        for x in X:\n",
        "            distances = np.sqrt(np.sum((self.X_train - x) ** 2, axis=1))\n",
        "            k_indices = distances.argsort()[:self.k]\n",
        "            k_nearest_labels = self.y_train[k_indices]\n",
        "            majority_vote = np.bincount(k_nearest_labels).argmax()\n",
        "            preds.append(majority_vote)\n",
        "        return np.array(preds)\n",
        "\n",
        "# Naive Bayes from Scratch\n",
        "class NaiveBayesScratch:\n",
        "    def __init__(self):\n",
        "        pass\n",
        "\n",
        "    def fit(self, X, y):\n",
        "        self.classes = np.unique(y)\n",
        "        self.mean = {}\n",
        "        self.var = {}\n",
        "        self.priors = {}\n",
        "\n",
        "        for c in self.classes:\n",
        "            X_c = X[y == c]\n",
        "            self.mean[c] = X_c.mean(axis=0)\n",
        "            self.var[c] = X_c.var(axis=0) + 1e-6\n",
        "            self.priors[c] = X_c.shape[0] / X.shape[0]\n",
        "\n",
        "    def predict(self, X):\n",
        "        preds = []\n",
        "        for x in X:\n",
        "            posteriors = []\n",
        "            for c in self.classes:\n",
        "                prior = np.log(self.priors[c])\n",
        "                likelihood = -0.5 * np.sum(np.log(2 * np.pi * self.var[c]))\n",
        "                likelihood -= 0.5 * np.sum(((x - self.mean[c]) ** 2) / self.var[c])\n",
        "                posterior = prior + likelihood\n",
        "                posteriors.append(posterior)\n",
        "            preds.append(self.classes[np.argmax(posteriors)])\n",
        "        return np.array(preds)\n",
        "\n",
        "# SVM from Scratch\n",
        "class SVMScratch:\n",
        "    def __init__(self, lr=0.001, epochs=1000, lambda_param=0.01):\n",
        "        self.lr = lr\n",
        "        self.epochs = epochs\n",
        "        self.lambda_param = lambda_param\n",
        "\n",
        "    def fit(self, X, y):\n",
        "        y_ = np.where(y <= 0, -1, 1)\n",
        "        self.weights = np.zeros(X.shape[1])\n",
        "        self.bias = 0\n",
        "\n",
        "        for _ in range(self.epochs):\n",
        "            for idx, xi in enumerate(X):\n",
        "                condition = y_[idx] * (np.dot(xi, self.weights) - self.bias) >= 1\n",
        "                if condition:\n",
        "                    self.weights -= self.lr * (2 * self.lambda_param * self.weights)\n",
        "                else:\n",
        "                    self.weights -= self.lr * (2 * self.lambda_param * self.weights - np.dot(xi, y_[idx]))\n",
        "                    self.bias -= self.lr * y_[idx]\n",
        "\n",
        "    def predict(self, X):\n",
        "        approx = np.dot(X, self.weights) - self.bias\n",
        "        return np.where(approx >= 0, 1, 0)\n",
        "\n",
        "# Train models\n",
        "log_reg = LogisticRegressionScratch(lr=0.01, epochs=1000)\n",
        "log_reg.fit(X_train, y_train)\n",
        "\n",
        "knn = KNNScratch(k=5)\n",
        "knn.fit(X_train, y_train)\n",
        "\n",
        "nb = NaiveBayesScratch()\n",
        "nb.fit(X_train, y_train)\n",
        "\n",
        "svm = SVMScratch(lr=0.001, epochs=1000)\n",
        "svm.fit(X_train, y_train)\n",
        "\n",
        "# Streamlit UI\n",
        "st.title(\"Fraud Detection System (Ensemble Voting)\")\n",
        "\n",
        "# Model dictionary\n",
        "models = {\n",
        "    \"Logistic Regression\": log_reg,\n",
        "    \"KNN\": knn,\n",
        "    \"Naive Bayes\": nb,\n",
        "    \"SVM\": svm\n",
        "}\n",
        "\n",
        "# Input fields\n",
        "st.header(\"Enter Transaction Details\")\n",
        "amount = st.number_input(\"Transaction Amount\", min_value=0.0, value=2000.0)\n",
        "isPayment = st.selectbox(\"Is Payment\", [1, 0])\n",
        "isMovement = st.selectbox(\"Is Movement\", [1, 0])\n",
        "accountDiff = st.number_input(\"Account Difference\", value=100.0)\n",
        "\n",
        "# Prepare input\n",
        "input_features = np.array([[amount, isPayment, isMovement, accountDiff]])\n",
        "input_features = (input_features - X_mean) / X_std\n",
        "\n",
        "# Predict using all models\n",
        "if st.button(\"Make Prediction\"):\n",
        "    predictions = {}\n",
        "    for name, model in models.items():\n",
        "        try:\n",
        "            pred = model.predict(input_features)[0]\n",
        "            predictions[name] = pred\n",
        "        except Exception as e:\n",
        "            st.warning(f\"{name} model failed: {e}\")\n",
        "            predictions[name] = None\n",
        "\n",
        "    # Majority vote\n",
        "    valid_preds = [p for p in predictions.values() if p is not None]\n",
        "    if not valid_preds:\n",
        "        st.error(\"No valid predictions from models.\")\n",
        "    else:\n",
        "        vote_counts = Counter(valid_preds)\n",
        "        majority_vote = vote_counts.most_common(1)[0][0]\n",
        "\n",
        "        # Display results\n",
        "        st.subheader(\"Model Predictions\")\n",
        "        for model_name, pred in predictions.items():\n",
        "            if pred is not None:\n",
        "                label = \"Fraud\" if pred == 1 else \"Legit\"\n",
        "                st.write(f\"**{model_name}**: {label}\")\n",
        "\n",
        "        st.subheader(\"Final Decision\")\n",
        "        if majority_vote == 1:\n",
        "            st.error(\"⚠️ Fraudulent Transaction Detected!\")\n",
        "        else:\n",
        "            st.success(\"✅ Legitimate Transaction\")\n",
        "\n",
        "\n",
        "\"\"\""
      ],
      "metadata": {
        "id": "qonRx3FFMFoJ"
      },
      "execution_count": null,
      "outputs": []
    },
    {
      "cell_type": "code",
      "source": [
        "with open('app.py', 'w') as f:\n",
        "    f.write(app_code)"
      ],
      "metadata": {
        "id": "DQfTjiCXadfn"
      },
      "execution_count": null,
      "outputs": []
    },
    {
      "cell_type": "code",
      "source": [
        "ngrok.kill()\n",
        "\n",
        "# Set up ngrok for public URL\n",
        "!ngrok authtoken 2w5GWO5ExSkMnyWiiyPwPGMqkiY_MTxgEibjMG3XxM8QsXRo  # Your ngrok auth token\n",
        "public_url = ngrok.connect(8501)\n",
        "print(f\"Streamlit app is running at: {public_url}\")\n",
        "\n",
        "# Run the Streamlit app in the background\n",
        "!streamlit run app.py &>/dev/null&"
      ],
      "metadata": {
        "colab": {
          "base_uri": "https://localhost:8080/"
        },
        "id": "qZaTdhiRaguy",
        "outputId": "b289f6b1-43dc-4cf7-b9c6-5e4fb633ab5f"
      },
      "execution_count": null,
      "outputs": [
        {
          "output_type": "stream",
          "name": "stdout",
          "text": [
            "Authtoken saved to configuration file: /root/.config/ngrok/ngrok.yml\n",
            "Streamlit app is running at: NgrokTunnel: \"https://e346-34-90-76-240.ngrok-free.app\" -> \"http://localhost:8501\"\n"
          ]
        }
      ]
    },
    {
      "cell_type": "code",
      "source": [
        "\n",
        "\n"
      ],
      "metadata": {
        "id": "mEvVQpc3kRhl"
      },
      "execution_count": null,
      "outputs": []
    },
    {
      "cell_type": "code",
      "source": [],
      "metadata": {
        "id": "y8GGEeyY_TWk"
      },
      "execution_count": null,
      "outputs": []
    }
  ],
  "metadata": {
    "colab": {
      "provenance": []
    },
    "kernelspec": {
      "display_name": "Python 3",
      "name": "python3"
    },
    "language_info": {
      "name": "python"
    }
  },
  "nbformat": 4,
  "nbformat_minor": 0
}